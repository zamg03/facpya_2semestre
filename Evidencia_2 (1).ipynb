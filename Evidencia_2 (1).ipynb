{
  "metadata": {
    "language_info": {
      "codemirror_mode": {
        "name": "python",
        "version": 3
      },
      "file_extension": ".py",
      "mimetype": "text/x-python",
      "name": "python",
      "nbconvert_exporter": "python",
      "pygments_lexer": "ipython3",
      "version": "3.8"
    },
    "kernelspec": {
      "name": "python",
      "display_name": "Python (Pyodide)",
      "language": "python"
    }
  },
  "nbformat_minor": 4,
  "nbformat": 4,
  "cells": [
    {
      "cell_type": "code",
      "source": "from time import sleep\n\nclass Persona:\n    def __init__(self, nombre, edad, altura):\n        self.nombre = nombre\n        self.edad = edad\n        self.altura = altura\n\n    def mostrar_informacion(self):\n        print(f\"Nombre: {self.nombre}\")\n        print(f\"Edad: {self.edad} años\")\n        print(f\"Altura: {self.altura} metros\")\n\n    def calcular_edad_en_dias(self):\n        dias_por_anio = 365\n        edad_en_dias = self.edad * dias_por_anio\n        return edad_en_dias",
      "metadata": {
        "trusted": true
      },
      "execution_count": 6,
      "outputs": []
    },
    {
      "cell_type": "code",
      "source": "# Crear una instancia de la clase Persona\npersona1 = Persona(nombre=\"Enrique\", edad=22, altura=1.74)\n\n# Mostrar la información de la persona\npersona1.mostrar_informacion()",
      "metadata": {
        "trusted": true
      },
      "execution_count": 7,
      "outputs": [
        {
          "name": "stdout",
          "text": "Nombre: Enrique\nEdad: 22 años\nAltura: 1.74 metros\n",
          "output_type": "stream"
        }
      ]
    },
    {
      "cell_type": "code",
      "source": "# Calcular y mostrar la edad en días\nedad_en_dias = persona1.calcular_edad_en_dias()\nprint(f\"Edad en días: {edad_en_dias}\")",
      "metadata": {
        "trusted": true
      },
      "execution_count": 8,
      "outputs": [
        {
          "name": "stdout",
          "text": "Edad en días: 8030\n",
          "output_type": "stream"
        }
      ]
    },
    {
      "cell_type": "code",
      "source": "# Dormir por 2 segundos para dar tiempo de leer la información\nsleep(2)\n\n# Modificar la información de la persona\npersona1.nombre = \"Enrique Alejandro\"\npersona1.edad = 24\npersona1.altura = 1.78\n\n# Mostrar la nueva información de la persona\npersona1.mostrar_informacion()",
      "metadata": {
        "trusted": true
      },
      "execution_count": 9,
      "outputs": [
        {
          "name": "stdout",
          "text": "Nombre: Enrique Alejandro\nEdad: 24 años\nAltura: 1.78 metros\n",
          "output_type": "stream"
        }
      ]
    }
  ]
}