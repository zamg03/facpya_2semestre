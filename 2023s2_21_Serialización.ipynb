{
  "cells": [
    {
      "cell_type": "markdown",
      "metadata": {
        "id": "view-in-github",
        "colab_type": "text"
      },
      "source": [
        "<a href=\"https://colab.research.google.com/github/zamg03/facpya_repositorio/blob/main/2023s2_21_Serializaci%C3%B3n.ipynb\" target=\"_parent\"><img src=\"https://colab.research.google.com/assets/colab-badge.svg\" alt=\"Open In Colab\"/></a>"
      ]
    },
    {
      "cell_type": "markdown",
      "id": "416a55b9",
      "metadata": {
        "id": "416a55b9"
      },
      "source": [
        "# **CLASE DE SERIALIZACIÓN**\n",
        "\n",
        "Elabora una clase llamada **``archivador``**, que tenga como función guardar y leer archivos físicos que contengan un objeto serializado. Los métodos sugeridos serían los siguientes:\n",
        "\n",
        "1. **``leer_archivo()``**: Lee el contenido de un archivo de extensión ``.pickle``, y retorna el objeto contenido en él.\n",
        "    1. Especificaciones:\n",
        "        1. El objeto, internamente, estará serializado usando pickle.\n",
        "        1. El método retorna una tupla que contiene un valor ``bool`` si la operación no fue posible (``False``), o si fue correcta (``True``).\n",
        "        1. Como segundo valor de la tupla, retorna el objeto leído (siempre y cuando la operación haya sido posible). Si no, que regrese nada ''.\n",
        "    1. Argumentos:\n",
        "        1. **``archivo``** (str): Es el nombre del archivo, sin extensión.\n",
        "\n",
        "1. **``guardar_archivo()``**: Almacena un objeto serializado a pickle, en un archivo binario de extensión ``.pickle``. Los argumentos del método son los siguientes:\n",
        "    1. Especificaciones:\n",
        "        1. Si el archivo existe, lo remplaza.\n",
        "        1. Retorna True si tuvo éxito, y False si no.\n",
        "    1. Argumentos:\n",
        "        1. **``archivo``** (str): Es el nombre del archivo.\n",
        "        1. **``objeto``** (unknown): Es el objeto a serializar. Puede ser de cualquier tipo.\n",
        "        1. **``respaldar``** (bool): Indica si se desea hacer respaldo de extensión ``.bak`` del archivo existente, antes de su remplazo (``True``), o no (``False``)."
      ]
    },
    {
      "cell_type": "code",
      "execution_count": null,
      "id": "d523f880",
      "metadata": {
        "id": "d523f880"
      },
      "outputs": [],
      "source": [
        "# Definición de datos\n",
        "\n",
        "eventos={\n",
        "    1:\"Evento 1\",\n",
        "    2:\"Evento 2\"\n",
        "}\n",
        "\n",
        "asistentes={\n",
        "    1:\"Asistente 1\",\n",
        "    2:\"Asistente 2\",\n",
        "    3:\"Asistente 3\"\n",
        "}\n",
        "\n",
        "registro={\n",
        "    1:[1,1],\n",
        "    2:[2,1],\n",
        "    3:[3,1],\n",
        "    4:[1,2],\n",
        "    5:[2,2]\n",
        "}\n",
        "\n",
        "repositorio=[eventos,asistentes,registro]\n"
      ]
    },
    {
      "cell_type": "code",
      "execution_count": null,
      "id": "5a0877e7",
      "metadata": {
        "id": "5a0877e7",
        "outputId": "6b642f2b-f970-450e-d5b1-4361ce038753"
      },
      "outputs": [
        {
          "name": "stdout",
          "output_type": "stream",
          "text": [
            "b'\\x80\\x04\\x95\\x8d\\x00\\x00\\x00\\x00\\x00\\x00\\x00]\\x94(}\\x94(K\\x01\\x8c\\x08Evento 1\\x94K\\x02\\x8c\\x08Evento 2\\x94u}\\x94(K\\x01\\x8c\\x0bAsistente 1\\x94K\\x02\\x8c\\x0bAsistente 2\\x94K\\x03\\x8c\\x0bAsistente 3\\x94u}\\x94(K\\x01]\\x94(K\\x01K\\x01eK\\x02]\\x94(K\\x02K\\x01eK\\x03]\\x94(K\\x03K\\x01eK\\x04]\\x94(K\\x01K\\x02eK\\x05]\\x94(K\\x02K\\x02eue.'\n",
            "True\n"
          ]
        }
      ],
      "source": [
        "# Librería para serializar json\n",
        "import pickle\n",
        "\n",
        "repositorio_pickle = pickle.dumps(repositorio)\n",
        "\n",
        "print(repositorio_pickle)\n",
        "\n",
        "nuevo_objeto=pickle.loads(repositorio_pickle)\n",
        "\n",
        "print(repositorio==nuevo_objeto)"
      ]
    },
    {
      "cell_type": "code",
      "execution_count": null,
      "id": "8caa0a90",
      "metadata": {
        "id": "8caa0a90"
      },
      "outputs": [],
      "source": [
        "import pickle\n",
        "import os\n",
        "\n",
        "class archivador:\n",
        "    objeto=''\n",
        "    archivo='sin_nombre.pickle'\n",
        "    respaldar=False\n",
        "\n",
        "    def __init__(self,objeto='',archivo='',respaldar=False):\n",
        "        self.objeto=objeto\n",
        "        self.archivo=archivo\n",
        "        self.respaldar=respaldar\n",
        "\n",
        "    def guardar_archivo(self,\n",
        "                        objeto='',\n",
        "                        archivo='sin_nombre.pickle',\n",
        "                        respaldar=False):\n",
        "        try:\n",
        "            if self.respaldar:\n",
        "                nombre_bak=self.archivo.split('.')[0]+'.bak'\n",
        "                if os.path.exists(archivo):\n",
        "                    if (os.path.exists(nombre_bak)):\n",
        "                        os.remove(nombre_bak)\n",
        "                        os.rename(archivo,nombre_bak)\n",
        "            # Se genera la versión serializada del objeto.\n",
        "            with open(archivo,\"wb+\") as f:\n",
        "                pickle.dump(objeto,f)\n",
        "        except:\n",
        "            # Si algo sale mal, retorna False (no fue posible)\n",
        "            # y un str vacío.\n",
        "            return False\n",
        "        # Si pudo hacer la operación, retorna True.\n",
        "        return True\n",
        "\n",
        "    def leer_archivo(self,archivo):\n",
        "        try:\n",
        "            with open(archivo,\"rb\") as f:\n",
        "                datos_recuperados=pickle.load(f)\n",
        "        except:\n",
        "            return False,''\n",
        "        # Si todo salió bien, retorna verdadero, y los datos.\n",
        "        return True, datos_recuperados\n"
      ]
    },
    {
      "cell_type": "code",
      "execution_count": null,
      "id": "3ecf7811",
      "metadata": {
        "id": "3ecf7811",
        "outputId": "74e647e3-865f-4a46-9570-8f67aee43aab"
      },
      "outputs": [
        {
          "name": "stdout",
          "output_type": "stream",
          "text": [
            "[{1: 'Evento 1', 2: 'Evento 2', 3: 'Evento 3'}, {1: 'Asistente 1', 2: 'Asistente 2', 3: 'Asistente 3'}, {1: [1, 1], 2: [2, 1], 3: [3, 1], 4: [1, 2], 5: [2, 2]}]\n",
            "[{1: 'Evento 1', 2: 'Evento 2', 3: 'Evento 3'}, {1: 'Asistente 1', 2: 'Asistente 2', 3: 'Asistente 3'}, {1: [1, 1], 2: [2, 1], 3: [3, 1], 4: [1, 2], 5: [2, 2]}]\n"
          ]
        }
      ],
      "source": [
        "# Generar una instancia de la clase\n",
        "trabajo=archivador()\n",
        "\n",
        "\n",
        "# Leo el archivo.\n",
        "resultado, repositorio=trabajo.leer_archivo('repositorio.pickle')\n",
        "resultado, sin_modificar=trabajo.leer_archivo('repositorio.pickle')\n",
        "\n",
        "\n",
        "# Modifico datos.\n",
        "repositorio[0][3]=\"Evento 3\"\n",
        "\n",
        "print(repositorio)\n",
        "print(sin_modificar)\n",
        "\n"
      ]
    },
    {
      "cell_type": "code",
      "execution_count": null,
      "id": "bf92ff3e",
      "metadata": {
        "id": "bf92ff3e"
      },
      "outputs": [],
      "source": []
    },
    {
      "cell_type": "code",
      "execution_count": null,
      "id": "03e4eeb5",
      "metadata": {
        "id": "03e4eeb5",
        "outputId": "97dfdd9a-2f90-4433-d349-a8110a552867"
      },
      "outputs": [
        {
          "data": {
            "text/plain": [
              "True"
            ]
          },
          "execution_count": 34,
          "metadata": {},
          "output_type": "execute_result"
        }
      ],
      "source": [
        "# Ejecutar el método guardar_archivo()\n",
        "trabajo.guardar_archivo(repositorio,'repositorio.pickle',False)"
      ]
    },
    {
      "cell_type": "code",
      "source": [
        "archivo='archivo.doc'\n",
        "nombre_bak=archivo.split('.')[0]+'.bak'\n",
        "print(nombre_bak)"
      ],
      "metadata": {
        "colab": {
          "base_uri": "https://localhost:8080/"
        },
        "id": "DYgEbSp8ur_u",
        "outputId": "d94754ab-93b6-42a2-cb1c-3d8eb291c1c3"
      },
      "id": "DYgEbSp8ur_u",
      "execution_count": null,
      "outputs": [
        {
          "output_type": "stream",
          "name": "stdout",
          "text": [
            "archivo.bak\n"
          ]
        }
      ]
    }
  ],
  "metadata": {
    "kernelspec": {
      "display_name": "Python 3 (ipykernel)",
      "language": "python",
      "name": "python3"
    },
    "language_info": {
      "codemirror_mode": {
        "name": "ipython",
        "version": 3
      },
      "file_extension": ".py",
      "mimetype": "text/x-python",
      "name": "python",
      "nbconvert_exporter": "python",
      "pygments_lexer": "ipython3",
      "version": "3.10.9"
    },
    "colab": {
      "provenance": [],
      "include_colab_link": true
    }
  },
  "nbformat": 4,
  "nbformat_minor": 5
}