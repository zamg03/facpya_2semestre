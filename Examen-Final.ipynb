{
 "cells": [
  {
   "cell_type": "code",
   "execution_count": 7,
   "id": "8da36abf-5196-4e6b-857a-7fa760bc20c5",
   "metadata": {},
   "outputs": [
    {
     "name": "stdin",
     "output_type": "stream",
     "text": [
      "Dame el isbn:  1234-1234-1234-1234\n"
     ]
    }
   ],
   "source": [
    "#programa 1\n",
    "import re\n",
    "isbn_re=r'^[0-9]{4}[-][0-9]{4}[-][0-9]{4}[-][0-9]{4}$'\n",
    "\n",
    "while True:\n",
    "    isbn=input('Dame el isbn: ')\n",
    "    if (isbn==''):\n",
    "        print('Error. No se puede omitir. Inténtalo de nuevo.')\n",
    "        continue\n",
    "    if not bool(re.match(isbn_re,isbn)):\n",
    "        print('Error. No tiene el formato correcto. Inténtalo de nuevo.')\n",
    "        continue\n",
    "    break"
   ]
  },
  {
   "cell_type": "code",
   "execution_count": 6,
   "id": "d357fe72-49e6-41bd-bd4e-9a075a7fe28d",
   "metadata": {},
   "outputs": [
    {
     "name": "stdin",
     "output_type": "stream",
     "text": [
      "Ingrese los grados Celsius:  17\n"
     ]
    },
    {
     "name": "stdout",
     "output_type": "stream",
     "text": [
      "17.0 grados Celsius son 62.60 grados Fahrenheit.\n"
     ]
    }
   ],
   "source": [
    "#programa 2\n",
    "class Conversiones:\n",
    "    def __init__(self, centigrados):\n",
    "        self.centigrados = float(centigrados)\n",
    "\n",
    "    @property\n",
    "    def fahrenheit(self):\n",
    "        return (self.centigrados * 1.8) + 32\n",
    "\n",
    "grados_celsius = float(input(\"Ingrese los grados Celsius: \"))\n",
    "convertidor = Conversiones(grados_celsius)\n",
    "print(f\"{grados_celsius} grados Celsius son {convertidor.fahrenheit:.2f} grados Fahrenheit.\")"
   ]
  },
  {
   "cell_type": "code",
   "execution_count": 8,
   "id": "add840d5-64ad-402a-9a0e-be6b71681997",
   "metadata": {},
   "outputs": [
    {
     "name": "stdout",
     "output_type": "stream",
     "text": [
      "Ana ha obtenido una calificación de 90. ¡Bien hecho!\n",
      "No se ha proporcionado información de calificación para Juan. ¿Olvidaste ingresarla?\n"
     ]
    }
   ],
   "source": [
    "#programa 3\n",
    "def mensaje_calificacion(estudiante, calificacion=None):\n",
    "    if calificacion is not None:\n",
    "        return f\"{estudiante} ha obtenido una calificación de {calificacion}. ¡Bien hecho!\"\n",
    "    else:\n",
    "        return f\"No se ha proporcionado información de calificación para {estudiante}. ¿Olvidaste ingresarla?\"\n",
    "\n",
    "resultado1 = mensaje_calificacion(\"Ana\", 90)\n",
    "print(resultado1)\n",
    "\n",
    "resultado2 = mensaje_calificacion(\"Juan\")\n",
    "print(resultado2)"
   ]
  },
  {
   "cell_type": "code",
   "execution_count": 9,
   "id": "898e4b0d-dca3-4978-b63c-d0b2333da450",
   "metadata": {},
   "outputs": [
    {
     "name": "stdout",
     "output_type": "stream",
     "text": [
      "El objeto 'productos' ha sido serializado y almacenado en productos.pickle.\n"
     ]
    }
   ],
   "source": [
    "#programa 4\n",
    "import pickle\n",
    "\n",
    "productos = [\n",
    "    {\"id\": 1, \"nombre\": \"Martillo\", \"precio\": 15.99},\n",
    "    {\"id\": 2, \"nombre\": \"Destornillador\", \"precio\": 5.99},\n",
    "    {\"id\": 3, \"nombre\": \"Sierra\", \"precio\": 29.99}\n",
    "]\n",
    "\n",
    "archivo_pickle = \"productos.pickle\"\n",
    "\n",
    "with open(archivo_pickle, \"wb\") as archivo:\n",
    "    pickle.dump(productos, archivo)\n",
    "\n",
    "print(f\"El objeto 'productos' ha sido serializado y almacenado en {archivo_pickle}.\")"
   ]
  },
  {
   "cell_type": "code",
   "execution_count": 1,
   "id": "937bd1bc-28a4-4f97-baa4-4866376cfd2b",
   "metadata": {},
   "outputs": [
    {
     "name": "stdout",
     "output_type": "stream",
     "text": [
      "Felipe Ramirez\n",
      "materia, calificacion\n",
      "Estadistica, 100\n",
      "Programacion, 98\n",
      "Visualizacion, 95\n",
      "promedio: 97.67\n",
      "\n",
      "Juan Lopez\n",
      "materia, calificacion\n",
      "Estadistica, 88\n",
      "Programacion, 100\n",
      "Visualizacion, 90\n",
      "promedio: 92.67\n",
      "\n"
     ]
    }
   ],
   "source": [
    "#programa 5\n",
    "resultados = {\n",
    "    \"Felipe Ramirez\": [[\"Estadistica\", 100], [\"Programacion\", 98], [\"Visualizacion\", 95]],\n",
    "    \"Juan Lopez\": [[\"Estadistica\", 88], [\"Programacion\", 100], [\"Visualizacion\", 90]]\n",
    "}\n",
    "\n",
    "def mostrar_calificaciones(nombre, materias_calificaciones):\n",
    "    print(nombre)\n",
    "    print(\"materia, calificacion\")\n",
    "    \n",
    "    total_calificaciones = 0\n",
    "    total_materias = len(materias_calificaciones)\n",
    "    \n",
    "    for materia, calificacion in materias_calificaciones:\n",
    "        print(f\"{materia}, {calificacion}\")\n",
    "        total_calificaciones += calificacion\n",
    "    \n",
    "    promedio = total_calificaciones / total_materias\n",
    "    print(f\"promedio: {promedio:.2f}\\n\")\n",
    "\n",
    "for nombre, calificaciones in resultados.items():\n",
    "    mostrar_calificaciones(nombre, calificaciones)"
   ]
  }
 ],
 "metadata": {
  "kernelspec": {
   "display_name": "Python 3 (ipykernel)",
   "language": "python",
   "name": "python3"
  },
  "language_info": {
   "codemirror_mode": {
    "name": "ipython",
    "version": 3
   },
   "file_extension": ".py",
   "mimetype": "text/x-python",
   "name": "python",
   "nbconvert_exporter": "python",
   "pygments_lexer": "ipython3",
   "version": "3.12.0"
  }
 },
 "nbformat": 4,
 "nbformat_minor": 5
}
