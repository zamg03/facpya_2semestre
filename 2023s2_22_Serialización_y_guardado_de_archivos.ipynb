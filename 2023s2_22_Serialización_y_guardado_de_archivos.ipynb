{
  "nbformat": 4,
  "nbformat_minor": 0,
  "metadata": {
    "colab": {
      "provenance": [],
      "include_colab_link": true
    },
    "kernelspec": {
      "name": "python3",
      "display_name": "Python 3"
    },
    "language_info": {
      "name": "python"
    }
  },
  "cells": [
    {
      "cell_type": "markdown",
      "metadata": {
        "id": "view-in-github",
        "colab_type": "text"
      },
      "source": [
        "<a href=\"https://colab.research.google.com/github/zamg03/facpya_repositorio/blob/main/2023s2_22_Serializaci%C3%B3n_y_guardado_de_archivos.ipynb\" target=\"_parent\"><img src=\"https://colab.research.google.com/assets/colab-badge.svg\" alt=\"Open In Colab\"/></a>"
      ]
    },
    {
      "cell_type": "code",
      "execution_count": null,
      "metadata": {
        "colab": {
          "base_uri": "https://localhost:8080/"
        },
        "id": "bbkM2o9HszBv",
        "outputId": "459e2e4a-cd93-47a8-f5e2-864e2b010c15"
      },
      "outputs": [
        {
          "output_type": "stream",
          "name": "stdout",
          "text": [
            "/content\n"
          ]
        }
      ],
      "source": [
        "# Se hablilita el trabajo con el sistema operativo\n",
        "import os\n",
        "\n",
        "# Obtener la ruta de trabajo actual\n",
        "# (Current Working Directory)\n",
        "ruta=os.getcwd()\n",
        "print(ruta)\n",
        "\n",
        "# Obtiene el valor absoluto de la ruta\n",
        "ruta_absoluta=os.path.abspath(ruta)\n",
        "print(ruta_absoluta)"
      ]
    },
    {
      "cell_type": "code",
      "source": [
        "# Se asume que el archivo colores.txt no existe en el\n",
        "# directorio de trabajo.\n",
        "archivo=\"colores.txt\"\n",
        "\n",
        "# Informa si el archivo existe o no existe.\n",
        "if os.path.exists(archivo):\n",
        "    print(\"\\nEl archivo ya existe\")\n",
        "else:\n",
        "    print(\"\\nEl archivo no existe\")"
      ],
      "metadata": {
        "colab": {
          "base_uri": "https://localhost:8080/"
        },
        "id": "pLO2PyGhtR1_",
        "outputId": "c94604a4-7cc6-4dba-baed-8670ca1e10cc"
      },
      "execution_count": null,
      "outputs": [
        {
          "output_type": "stream",
          "name": "stdout",
          "text": [
            "\n",
            "El archivo no existe\n"
          ]
        }
      ]
    },
    {
      "cell_type": "code",
      "source": [
        "# Si el archivo existe, lo borra\n",
        "archivo=\"colores.txt\"\n",
        "\n",
        "# Si el archivo existe, lo elimina.\n",
        "# Informa qué se hizo.\n",
        "if os.path.exists(archivo):\n",
        "    os.remove(archivo)\n",
        "    print(\"\\nEl archivo se eliminó\")\n",
        "else:\n",
        "    print(\"\\nEl archivo no existe. No se eliminó nada.\")"
      ],
      "metadata": {
        "colab": {
          "base_uri": "https://localhost:8080/"
        },
        "id": "dh4bWiQ-tjDl",
        "outputId": "1bb827ec-4af7-4adb-df16-47a42606da0b"
      },
      "execution_count": null,
      "outputs": [
        {
          "output_type": "stream",
          "name": "stdout",
          "text": [
            "\n",
            "El archivo no existe. No se eliminó nada.\n"
          ]
        }
      ]
    },
    {
      "cell_type": "code",
      "source": [
        "# Se abre un archivo en modo Append Extended (a+). Si el archivo no\n",
        "# existe, lo crea, con capacidad de lectura y escrituta. El\n",
        "# apuntador de escritura se coloca al final del archivo.\n",
        "archivo=\"colores.txt\"\n",
        "\n",
        "f = open(archivo,\"a+\")\n",
        "# Verificación de que ya se creo.\n",
        "if os.path.exists(archivo):\n",
        "    print(\"\\nEl archivo ya existe\")\n",
        "else:\n",
        "    print(\"\\nEl archivo no existe\")\n",
        "# Se cierra el archivo.\n",
        "f.close()"
      ],
      "metadata": {
        "colab": {
          "base_uri": "https://localhost:8080/"
        },
        "id": "VBwKuaOMu7D5",
        "outputId": "51fc1ec0-9215-40f9-feee-9743b03bac98"
      },
      "execution_count": null,
      "outputs": [
        {
          "output_type": "stream",
          "name": "stdout",
          "text": [
            "\n",
            "El archivo ya existe\n"
          ]
        }
      ]
    },
    {
      "cell_type": "code",
      "source": [
        "# Abro el archivo en modo Write Extended.\n",
        "# Si el archivo no existe, lo genera. Si existe, lo remplaza.\n",
        "# Los contenidos van en secuencia.\n",
        "archivo=\"colores.txt\"\n",
        "f = open(archivo,\"w+\")\n",
        "\n",
        "# Escribo 4 contenidos en secuencia.\n",
        "f.write(\"Azul\")\n",
        "f.write(\"Amarillo\")\n",
        "f.write(\"Rojo\")\n",
        "\n",
        "# Cierro el archivo.\n",
        "f.close()"
      ],
      "metadata": {
        "id": "xAeTNnm4vsRo"
      },
      "execution_count": null,
      "outputs": []
    },
    {
      "cell_type": "code",
      "source": [
        "# Para saltos de línea, se utiliza \\n\n",
        "# Abro el archivo en modo Write Extended\n",
        "archivo=\"colores.txt\"\n",
        "f = open(archivo,\"w+\")\n",
        "\n",
        "# Escribo 4 líneas adicionales.\n",
        "f.write(\"Rojo\\n\")\n",
        "f.write(\"Amarillo\\n\")\n",
        "f.write(\"Verde\\n\")\n",
        "\n",
        "# Agregando los elementos de un iterable\n",
        "mas_colores=[\"Morado\\n\",\"Celeste\\n\",\"Rosa\\n\"]\n",
        "f.writelines(mas_colores)\n",
        "\n",
        "# Cierro el archivo.\n",
        "f.close()"
      ],
      "metadata": {
        "id": "ti_k5-aRw1MN"
      },
      "execution_count": null,
      "outputs": []
    },
    {
      "cell_type": "code",
      "source": [
        "# Abro el archivo en modo lectura\n",
        "archivo=\"colores.txt\"\n",
        "f = open(archivo,\"r\")\n",
        "\n",
        "# Leo el contenido y se lo asigno a la variable\n",
        "# contenido.\n",
        "contenido=f.read()\n",
        "\n",
        "# Muestro el contenido. Debe ser todo el archivo.\n",
        "print(contenido)\n",
        "\n",
        "# Cierro el archivo.\n",
        "f.close()"
      ],
      "metadata": {
        "colab": {
          "base_uri": "https://localhost:8080/"
        },
        "id": "p4qZscH7xNPw",
        "outputId": "dbcaab22-c1ac-4faa-952a-825cdcddac8b"
      },
      "execution_count": null,
      "outputs": [
        {
          "output_type": "stream",
          "name": "stdout",
          "text": [
            "Rojo\n",
            "Amarillo\n",
            "Verde\n",
            "Morado\n",
            "Celeste\n",
            "Rosa\n",
            "\n"
          ]
        }
      ]
    },
    {
      "cell_type": "code",
      "source": [
        "# Abro el archivo en modo lectura\n",
        "archivo=\"colores.txt\"\n",
        "f = open(archivo,\"r\")\n",
        "\n",
        "# Leo únicamente los primeros 5 caracteres del archivo.\n",
        "contenido=f.read(5)\n",
        "\n",
        "# Muestro el contenido\n",
        "print(contenido)\n",
        "\n",
        "# Leo otros 5 caracteres del archivo.\n",
        "contenido=f.read(5)\n",
        "\n",
        "# Muestro el contenido\n",
        "print(contenido)\n",
        "\n",
        "# Cierro el archivo.\n",
        "f.close()"
      ],
      "metadata": {
        "colab": {
          "base_uri": "https://localhost:8080/"
        },
        "id": "SCDp6-vTxiDe",
        "outputId": "3a88e91d-6e4c-4011-fd6b-631abca1629a"
      },
      "execution_count": null,
      "outputs": [
        {
          "output_type": "stream",
          "name": "stdout",
          "text": [
            "Rojo\n",
            "\n",
            "Amari\n"
          ]
        }
      ]
    },
    {
      "cell_type": "code",
      "source": [
        "# Abro el archivo en modo lectura\n",
        "archivo=\"colores.txt\"\n",
        "f = open(archivo,\"r\")\n",
        "\n",
        "# Leo únicamente la primer línea del archivo.\n",
        "contenido=f.readline()\n",
        "\n",
        "# Muestro el contenido\n",
        "print(contenido)\n",
        "\n",
        "# Leo siguiente línea\n",
        "contenido=f.readline()\n",
        "\n",
        "# Muestro el contenido\n",
        "print(contenido)\n",
        "\n",
        "# Cierro el archivo.\n",
        "f.close()"
      ],
      "metadata": {
        "colab": {
          "base_uri": "https://localhost:8080/"
        },
        "id": "SZL55_Gyx9QJ",
        "outputId": "639178c7-acfe-4899-df1f-82e853122c31"
      },
      "execution_count": null,
      "outputs": [
        {
          "output_type": "stream",
          "name": "stdout",
          "text": [
            "Rojo\n",
            "\n",
            "Amarillo\n",
            "\n"
          ]
        }
      ]
    },
    {
      "cell_type": "code",
      "source": [
        "# Abro el archivo en modo lectura\n",
        "archivo=\"colores.txt\"\n",
        "f = open(archivo,\"r\")\n",
        "\n",
        "# Leo únicamente los primeros 5 caracteres del arvhivo.\n",
        "for linea in f:\n",
        "    print(\">\", linea)\n",
        "\n",
        "# Cierro el archivo.\n",
        "f.close()"
      ],
      "metadata": {
        "colab": {
          "base_uri": "https://localhost:8080/"
        },
        "id": "LyNf7uXOyLyz",
        "outputId": "3fb333fc-8ae6-485b-faec-32cba256b40d"
      },
      "execution_count": null,
      "outputs": [
        {
          "output_type": "stream",
          "name": "stdout",
          "text": [
            "> Rojo\n",
            "\n",
            "> Amarillo\n",
            "\n",
            "> Verde\n",
            "\n",
            "> Morado\n",
            "\n",
            "> Celeste\n",
            "\n",
            "> Rosa\n",
            "\n"
          ]
        }
      ]
    },
    {
      "cell_type": "code",
      "source": [
        "with open(\"colores.txt\",\"r\") as f:\n",
        "    contenido=f.read()\n",
        "    print(contenido)"
      ],
      "metadata": {
        "colab": {
          "base_uri": "https://localhost:8080/"
        },
        "id": "HW5vzmXDycIU",
        "outputId": "153a6687-11ab-4573-f028-35d15e81ab31"
      },
      "execution_count": null,
      "outputs": [
        {
          "output_type": "stream",
          "name": "stdout",
          "text": [
            "Rojo\n",
            "Amarillo\n",
            "Verde\n",
            "Morado\n",
            "Celeste\n",
            "Rosa\n",
            "\n"
          ]
        }
      ]
    },
    {
      "cell_type": "code",
      "source": [
        "# Datos iniciales. Entradas es una lista que contiene listas.\n",
        "Entradas=[\n",
        "    ['correo','nombre','telefono'],\n",
        "    ['juan@gmail.com','Juan','8123232323'],\n",
        "    ['maria@gmail.com','Maria','5545454545'],\n",
        "    ['diana@homail.com','Diana','4490909090']\n",
        "]\n",
        "for e in Entradas:\n",
        "    print(f'{e[0]}|{e[1]}|{e[2]}')"
      ],
      "metadata": {
        "colab": {
          "base_uri": "https://localhost:8080/"
        },
        "id": "L5-Q-alvzAEe",
        "outputId": "9ed86fa9-9005-4ec9-cae7-3b89663690c2"
      },
      "execution_count": null,
      "outputs": [
        {
          "output_type": "stream",
          "name": "stdout",
          "text": [
            "correo|nombre|telefono\n",
            "juan@gmail.com|Juan|8123232323\n",
            "maria@gmail.com|Maria|5545454545\n",
            "diana@homail.com|Diana|4490909090\n"
          ]
        }
      ]
    },
    {
      "cell_type": "code",
      "source": [
        "# Se imprime el contenido de la lista, para cotejar.\n",
        "print(\">> Contenido de la lista.\\n\")\n",
        "print(Entradas)\n",
        "\n",
        "# Revisa si existe el CSV, en cuyo caso, si existe el BAK lo elimina\n",
        "# y renombra el CSV como BAK\n",
        "if os.path.exists(\"agenda.csv\"):\n",
        "    if (os.path.exists(\"agenda.bak\")):\n",
        "        os.remove(\"agenda.bak\")\n",
        "        os.rename(\"agenda.csv\",\"agenda.bak\")\n",
        "    else:\n",
        "        os.rename(\"agenda.csv\",\"agenda.bak\")\n",
        "\n",
        "# Se escribe el contenido de la lista, usando with y F-String\n",
        "with open(\"agenda.csv\",\"w+\") as f:\n",
        "    for e in Entradas:\n",
        "        f.write(f\"{e[0]}|{e[1]}|{e[2]}\\n\")\n",
        "\n",
        "# Se revisa el contenido del archivo.\n",
        "print(\"\\n>> Contenido del archivo.\\n\")\n",
        "with open(\"agenda.csv\") as f:\n",
        "    print(f.read())"
      ],
      "metadata": {
        "id": "xB8L_j6v0GIw"
      },
      "execution_count": null,
      "outputs": []
    }
  ]
}