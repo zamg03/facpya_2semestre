{
  "nbformat": 4,
  "nbformat_minor": 0,
  "metadata": {
    "colab": {
      "provenance": [],
      "include_colab_link": true
    },
    "kernelspec": {
      "name": "python3",
      "display_name": "Python 3"
    },
    "language_info": {
      "name": "python"
    }
  },
  "cells": [
    {
      "cell_type": "markdown",
      "metadata": {
        "id": "view-in-github",
        "colab_type": "text"
      },
      "source": [
        "<a href=\"https://colab.research.google.com/github/zamg03/facpya_repositorio/blob/main/2023s2_22_Doble_ciclo_infinito.ipynb\" target=\"_parent\"><img src=\"https://colab.research.google.com/assets/colab-badge.svg\" alt=\"Open In Colab\"/></a>"
      ]
    },
    {
      "cell_type": "code",
      "execution_count": null,
      "metadata": {
        "colab": {
          "base_uri": "https://localhost:8080/"
        },
        "id": "Gaar_5WIX1pQ",
        "outputId": "57000b2d-2d6c-4142-e905-4dea89dceebd"
      },
      "outputs": [
        {
          "output_type": "stream",
          "name": "stdout",
          "text": [
            "Dame el primer número: 10\n",
            "Dame el segundo número: 8\n",
            "Dato incorrecto. El segundo número debe ser mayor al primero. Intenta de nuevo.\n",
            "[A] Preguntar el último, [B] Preguntar ambos: \n",
            "Dato incorrecto. Solo A o B. Intenta de nuevo.\n",
            "[A] Preguntar el último, [B] Preguntar ambos: c\n",
            "Dato incorrecto. Solo A o B. Intenta de nuevo.\n",
            "[A] Preguntar el último, [B] Preguntar ambos: a\n",
            "Dame el segundo número: 6\n",
            "Dato incorrecto. El segundo número debe ser mayor al primero. Intenta de nuevo.\n",
            "[A] Preguntar el último, [B] Preguntar ambos: b\n",
            "Dame el primer número: 10\n",
            "Dame el segundo número: 20\n",
            "Fin del programa.\n"
          ]
        }
      ],
      "source": [
        "captura_n1=True\n",
        "captura_n2=True\n",
        "\n",
        "while True:\n",
        "    if captura_n1:\n",
        "        while True:\n",
        "            _n1=input(\"Dame el primer número: \")\n",
        "            if (_n1==''):\n",
        "                print('Dato incorrecto. No se puede omitir. Intenta de nuevo.')\n",
        "                continue\n",
        "            try:\n",
        "                n1=int(_n1)\n",
        "            except:\n",
        "                print('Dato incorrecto. El dato no es numérico. Intenta de nuevo.')\n",
        "                continue\n",
        "            if (not (n1>=0 and n1<100)):\n",
        "                print('Dato incorrecto. El dato está [0,100). Intenta de nuevo.')\n",
        "                continue\n",
        "            # Si llego aquí, n1 tiene un número entero entre [0,100)\n",
        "            captura_n1=False\n",
        "            break\n",
        "\n",
        "    if captura_n2:\n",
        "        while True:\n",
        "            _n2=input(\"Dame el segundo número: \")\n",
        "            if (_n2==''):\n",
        "                print('Dato incorrecto. No se puede omitir. Intenta de nuevo.')\n",
        "                continue\n",
        "            try:\n",
        "                n2=int(_n2)\n",
        "            except:\n",
        "                print('Dato incorrecto. El dato no es numérico. Intenta de nuevo.')\n",
        "                continue\n",
        "            if (not (n2>=0 and n2<100)):\n",
        "                print('Dato incorrecto. El dato está [0,100). Intenta de nuevo.')\n",
        "                continue\n",
        "            # Si llego aquí, n2 tiene un número entero entre [0,100)\n",
        "            captura_n2=False\n",
        "            break\n",
        "\n",
        "    # Validación a nivel formulario\n",
        "    if (n2<=n1):\n",
        "        print('Dato incorrecto. El segundo número debe ser mayor al primero. Intenta de nuevo.')\n",
        "        # Tipo de acción que queremos.\n",
        "        while True:\n",
        "            accion=input('[A] Preguntar el último, [B] Preguntar ambos: ')\n",
        "            accion=accion.upper()\n",
        "            if (accion=='A'):\n",
        "                captura_n2=True\n",
        "                break\n",
        "            elif (accion=='B'):\n",
        "                captura_n1=True\n",
        "                captura_n2=True\n",
        "                break\n",
        "            else:\n",
        "                print('Dato incorrecto. Solo A o B. Intenta de nuevo.')\n",
        "                continue\n",
        "        continue\n",
        "    # Si llega aquí, todo bien\n",
        "    break\n",
        "\n",
        "print('Fin del programa.')"
      ]
    },
    {
      "cell_type": "code",
      "source": [],
      "metadata": {
        "id": "vfqzgOvabibe"
      },
      "execution_count": null,
      "outputs": []
    }
  ]
}