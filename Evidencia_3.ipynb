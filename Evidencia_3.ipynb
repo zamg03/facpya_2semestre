{
  "metadata": {
    "language_info": {
      "codemirror_mode": {
        "name": "python",
        "version": 3
      },
      "file_extension": ".py",
      "mimetype": "text/x-python",
      "name": "python",
      "nbconvert_exporter": "python",
      "pygments_lexer": "ipython3",
      "version": "3.8"
    },
    "kernelspec": {
      "name": "python",
      "display_name": "Python (Pyodide)",
      "language": "python"
    }
  },
  "nbformat_minor": 4,
  "nbformat": 4,
  "cells": [
    {
      "cell_type": "code",
      "source": "import pickle",
      "metadata": {
        "trusted": true
      },
      "execution_count": 17,
      "outputs": []
    },
    {
      "cell_type": "code",
      "source": "class Persona:\n    def __init__(self, nombre, edad):\n        self.nombre = nombre\n        self.edad = edad",
      "metadata": {
        "trusted": true
      },
      "execution_count": 18,
      "outputs": []
    },
    {
      "cell_type": "code",
      "source": "persona_original = Persona(nombre=\"Andres\", edad=32)",
      "metadata": {
        "trusted": true
      },
      "execution_count": 19,
      "outputs": []
    },
    {
      "cell_type": "code",
      "source": "def guardar_en_pickle(objeto, nombre_archivo):\n    with open(nombre_archivo, 'wb') as archivo:\n        pickle.dump(objeto, archivo)\n    print(f\"Objeto guardado en {nombre_archivo}\")",
      "metadata": {
        "trusted": true
      },
      "execution_count": 20,
      "outputs": []
    },
    {
      "cell_type": "code",
      "source": "def cargar_desde_pickle(nombre_archivo):\n    with open(nombre_archivo, 'rb') as archivo:\n        objeto_recuperado = pickle.load(archivo)\n    return objeto_recuperado",
      "metadata": {
        "trusted": true
      },
      "execution_count": 21,
      "outputs": []
    },
    {
      "cell_type": "code",
      "source": "nombre_archivo_pickle = 'persona.pkl'\nguardar_en_pickle(persona_original, nombre_archivo_pickle)",
      "metadata": {
        "trusted": true
      },
      "execution_count": 22,
      "outputs": [
        {
          "name": "stdout",
          "text": "Objeto guardado en persona.pkl\n",
          "output_type": "stream"
        }
      ]
    },
    {
      "cell_type": "code",
      "source": "persona_recuperada = cargar_desde_pickle(nombre_archivo_pickle)",
      "metadata": {
        "trusted": true
      },
      "execution_count": 23,
      "outputs": []
    },
    {
      "cell_type": "code",
      "source": "print(\"Objeto Original:\")\nprint(f\"Nombre: {persona_original.nombre}, Edad: {persona_original.edad}\")\n\nprint(\"\\nObjeto Recuperado:\")\nprint(f\"Nombre: {persona_recuperada.nombre}, Edad: {persona_recuperada.edad}\")",
      "metadata": {
        "trusted": true
      },
      "execution_count": 24,
      "outputs": [
        {
          "name": "stdout",
          "text": "Objeto Original:\nNombre: Andres, Edad: 32\n\nObjeto Recuperado:\nNombre: Andres, Edad: 32\n",
          "output_type": "stream"
        }
      ]
    }
  ]
}